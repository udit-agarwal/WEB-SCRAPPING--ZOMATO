rom selenium import webdriver
from bs4 import BeautifulSoup
import pandas as pd
driver = webdriver.Chrome('/path/to/chromedriver')
CHANGE THE URL FOR DIFFERENT LOCATION IN PUNE
typeofres=[] #List to store name of the product\n",
prices=[]
t=[]#List to store price of the product,
ratings=[] #List to store rating of the product\n",
driver.get("https://www.zomato.com/pune/hinjawadi-restaurants")
content = driver.page_source
soup = BeautifulSoup(content)
mydivs = soup.findAll("div", {"class": "pbot0 subzone_res_card"})
paragraphs = []
for x in mydivs:
    paragraphs.append(str(x))
paragraphs = pd.DataFrame(paragraphs)
a = paragraphs[0].str.split(' ',expand=True)
b = a[[10]]
c = b[10].str.split('=',expand=True)
c[1] = c[1].str.replace('"', '')
c['len'] = c[1].str.len()
d = c.loc[c['len']>12]
c = c.loc[c['len']<=12]
c[1] = c[1].astype('int')
l1 = c[1].to_list()
import os
import json
import requests
headers = { "user-key":"4a32fc6548516223da5467ef9446fecb"}
MAKING LIST OF URLs TO BE CALLED THROUGH API
#change the start = 0 to 100,200,300,400 etc. for every person
url=[]
for i in l1:
    a = "https://developers.zomato.com/api/v2.1/restaurant?res_id="+str(i)
    url.append(a)
list=[]
for i in url:
    x = requests.get(i,headers = headers).json()
    list.append(x)
Defining Function
def pretty_dict_init():
    pretty_dict = {"Res_Name":"",
                   "Delivery":"",
                   "ID":"",
                   "locality":"",
                   "city":"",
                   "Address":"",
                   "Latitude":"",
                   "Longitude":"",
                   "Cuisines":"",
                   "Avg_cost_for_two":"",
                   "user_rating":""}
    return pretty_dict
creating list
list_dict = []
for i in range(0,((len(list)-1))):
    pretty_dict["Res_Name"] = str(list[i]["name"])
    pretty_dict["ID"] = str(list[i]["id"])
    pretty_dict["Address"] = str(list[i]["location"]["address"])
    pretty_dict["Latitude"] = str(list[i]["location"]["latitude"])
    pretty_dict["Longitude"] = str(list[i]["location"]["longitude"])
    pretty_dict["Cuisines"] = str(list[i]["cuisines"])
    pretty_dict["Avg_cost_for_two"] = str(list[i]["average_cost_for_two"])
    pretty_dict["user_rating"] = str(list[i]["user_rating"]["aggregate_rating"])

    list_dict.append(pretty_dict)
    pretty_dict = pretty_dict_init()
x = pd.DataFrame(list_dict)
x.drop_duplicates('ID')
x.shape
print(x)
